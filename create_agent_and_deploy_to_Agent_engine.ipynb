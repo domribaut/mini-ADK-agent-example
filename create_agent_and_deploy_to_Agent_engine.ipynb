{
  "cells": [
    {
      "cell_type": "markdown",
      "source": [
        "# Create an agent with adk, deploy it to Agent Engine  \n"
      ],
      "metadata": {
        "id": "MqGHedY2Km9T"
      },
      "id": "MqGHedY2Km9T"
    },
    {
      "cell_type": "markdown",
      "source": [
        "\n",
        "## Intro\n",
        "The purpose of this notebook is to have a \"one-pager\" where you create a simple agent, run it and then deploy it to Agent Engine.  \n",
        "\n",
        "The relevant documentation kan be found there: https://cloud.google.com/vertex-ai/generative-ai/docs/agent-engine/overview\n",
        "\n",
        "With this the Notebook, you can  \n",
        "- Explore the main parts of working with ADK  \n",
        "- Create agents and explore how it shows up in the cloud console, look at the logs etc  \n",
        "- all implementation steps are \"naiv - happy path\" to not clutter the code\n",
        "\n",
        "**Pre-requisites**: Access to a Google Cloud Project  \n",
        "**Resources created**:\n",
        "- 1 GCS bucket\n",
        "- the agents in Agent Engine  \n",
        "\n",
        "Note:\n",
        "1. You will need to release the session from an agent to be able to delete it\n",
        "1. The easiest way to clean up is to use a fresh sandbox project that you can delete after\n",
        "\n",
        "**Possible next steps**\n",
        "- Rebuilt the same in VSCode and find out how to manage environments, folder strucure, import etc\n",
        "- Use the API instead of the SDK as demo-ed here\n",
        "- Publish it to Agentspace\n",
        "- Create more advance agents with MCP, custom tools, multi-agents etc"
      ],
      "metadata": {
        "id": "0ENxLwaQYyR7"
      },
      "id": "0ENxLwaQYyR7"
    },
    {
      "cell_type": "markdown",
      "source": [
        "ADK python client doc: https://google.github.io/adk-docs/api-reference/python/index.html  \n",
        "VertexAI client doc: https://pypi.org/project/google-cloud-aiplatform/    "
      ],
      "metadata": {
        "id": "IS5gk8xaD3HX"
      },
      "id": "IS5gk8xaD3HX"
    },
    {
      "cell_type": "markdown",
      "source": [
        "## Authentication\n",
        "Mostly for Google Colab.  \n",
        "You will be authenticated with your user in Colab Enterprise (Vertex AI)"
      ],
      "metadata": {
        "id": "0Ziy3fIUmD-z"
      },
      "id": "0Ziy3fIUmD-z"
    },
    {
      "cell_type": "code",
      "id": "HOkANNRBs7EbQre1vWDgt337",
      "metadata": {
        "tags": [],
        "id": "HOkANNRBs7EbQre1vWDgt337",
        "collapsed": true
      },
      "source": [
        "import sys\n",
        "\n",
        "if \"google.colab\" in sys.modules:\n",
        "    print(\"Running in Google Colab environment\")\n",
        "    from google.colab import auth\n",
        "    auth.authenticate_user()"
      ],
      "execution_count": null,
      "outputs": []
    },
    {
      "cell_type": "markdown",
      "source": [
        "## Configuration"
      ],
      "metadata": {
        "id": "7vVk6nn3mZIn"
      },
      "id": "7vVk6nn3mZIn"
    },
    {
      "cell_type": "code",
      "source": [
        "!pip install --upgrade \"google-cloud-aiplatform[adk,agent_engines]==1.106.0\""
      ],
      "metadata": {
        "id": "BhptKTKSY8n5"
      },
      "id": "BhptKTKSY8n5",
      "execution_count": null,
      "outputs": []
    },
    {
      "cell_type": "code",
      "source": [
        "# @title Settings\n",
        "#@markdown ---\n",
        "#@markdown ### Configure your settings below:\n",
        "\n",
        "#@markdown _What is the ID of your Google Cloud project._\n",
        "\n",
        "PROJECT_ID = \"my-project-jn3xifcv\" #@param {type:\"string\"}\n",
        "#@markdown _The Google Cloud region you are using_\n",
        "LOCATION = \"us-central1\"  #@param {type:\"string\"}\n",
        "#@markdown _The model to use is_\n",
        "MODEL = \"gemini-2.0-flash-001\" #@param [\"gemini-2.0-pro-exp-02-05\",\"gemini-1.5-pro-002\",\"gemini-1.5-flash-001\",\"gemini-2.0-flash-001\"]\n",
        "#@markdown _The name for your agent in Agent Engine_\n",
        "AE_APP_NAME = \"A secret agent\"  #@param {type:\"string\"}\n",
        "\n",
        "import os\n",
        "os.environ[\"GOOGLE_GENAI_USE_VERTEXAI\"] = \"1\"\n",
        "os.environ[\"GOOGLE_CLOUD_PROJECT\"] = PROJECT_ID\n",
        "os.environ[\"GOOGLE_CLOUD_LOCATION\"] = LOCATION\n",
        "os.environ[\"AE_APP_NAME\"] = AE_APP_NAME\n"
      ],
      "metadata": {
        "id": "p7D63MUFaIGt"
      },
      "id": "p7D63MUFaIGt",
      "execution_count": null,
      "outputs": []
    },
    {
      "cell_type": "markdown",
      "source": [
        "## Divers init\n",
        "- enable Vertex AI API\n",
        "- pip install for AI platform & ADK\n",
        "- Init Vertex AI\n"
      ],
      "metadata": {
        "id": "bEl-6_A-G7OD"
      },
      "id": "bEl-6_A-G7OD"
    },
    {
      "cell_type": "code",
      "source": [
        "%%bash\n",
        "#Vertex AI API\n",
        "echo \"Using project: \" $GOOGLE_CLOUD_PROJECT\n",
        "gcloud config set project $GOOGLE_CLOUD_PROJECT\n",
        "gcloud services enable aiplatform.googleapis.com\n",
        "gcloud services enable discoveryengine.googleapis.com\n",
        "\n",
        "gcloud services list --enabled\n"
      ],
      "metadata": {
        "id": "hAKYCzXvSUvE"
      },
      "id": "hAKYCzXvSUvE",
      "execution_count": null,
      "outputs": []
    },
    {
      "cell_type": "code",
      "source": [
        "import vertexai\n",
        "from dotenv import load_dotenv\n",
        "\n",
        "load_dotenv()\n",
        "vertexai.init(\n",
        "    project=os.getenv(\"GOOGLE_CLOUD_PROJECT\"),\n",
        "    location=os.getenv(\"GOOGLE_CLOUD_LOCATION\"),\n",
        "    staging_bucket=\"gs://\" + os.getenv(\"GOOGLE_CLOUD_PROJECT\")+\"-bucket\",\n",
        ")"
      ],
      "metadata": {
        "id": "FpjDeaKO_so6"
      },
      "id": "FpjDeaKO_so6",
      "execution_count": null,
      "outputs": []
    },
    {
      "cell_type": "markdown",
      "source": [
        "# Built it: Agent definition\n",
        "- a minimalistic agent (with a small trait to see that it's working)\n",
        "- no external dependencies\n",
        "- using a tool avalable in ADK"
      ],
      "metadata": {
        "id": "hWIwjlVLDaYM"
      },
      "id": "hWIwjlVLDaYM"
    },
    {
      "cell_type": "code",
      "source": [
        "from google.adk import Agent\n",
        "from google.adk.tools import google_search  # The Google Search tool\n",
        "\n",
        "root_agent = Agent(\n",
        "    # name: A unique name for the agent.\n",
        "    name=\"google_search_agent\",\n",
        "    # description: A short description of the agent's purpose, so\n",
        "    # other agents in a multi-agent system know when to call it.\n",
        "    description=\"Answer questions using Google Search.\",\n",
        "    # model: The LLM model that the agent will use:\n",
        "    model=\"gemini-2.0-flash-001\",\n",
        "    # instruction: Instructions (or the prompt) for the agent.\n",
        "    instruction=\"You are an expert researcher. You stick to the facts. Start all answers with <Well, this is an interesting question>\",\n",
        "\n",
        "    # tools: functions to enhance the model's capabilities.\n",
        "    # Add the google_search tool below.\n",
        "    tools=[google_search]\n",
        ")"
      ],
      "metadata": {
        "id": "Bkh6KmIQBAQD"
      },
      "id": "Bkh6KmIQBAQD",
      "execution_count": null,
      "outputs": []
    },
    {
      "cell_type": "markdown",
      "source": [
        "# Run your agent locally\n",
        "- The agent will run in the Notebook\n",
        "- you can update the question if you want to try diffent questions"
      ],
      "metadata": {
        "id": "Nugjl0M6FcAH"
      },
      "id": "Nugjl0M6FcAH"
    },
    {
      "cell_type": "code",
      "source": [
        "# @title User input for the local test {\"run\":\"auto\",\"vertical-output\":true}\n",
        "question = \"what is the capital of Neverland?\" #@param {type:\"string\"}"
      ],
      "metadata": {
        "id": "xS_AmUUoJhJ9"
      },
      "id": "xS_AmUUoJhJ9",
      "execution_count": null,
      "outputs": []
    },
    {
      "cell_type": "code",
      "source": [
        "from vertexai.preview.reasoning_engines import AdkApp\n",
        "\n",
        "# Create a simple ADK app for the root_agent.\n",
        "my_agent =AdkApp(\n",
        "    agent=root_agent,\n",
        "    enable_tracing=True\n",
        ")\n",
        "\n",
        "# We need a session to use the agent\n",
        "local_session = my_agent.create_session(user_id=\"user1\")\n",
        "\n",
        "print(\"[question] \" + question)\n",
        "# Stream query to get the answer\n",
        "# Naively print the text of the 1st part of the answer (assuming it exists)\n",
        "for event in my_agent.stream_query(\n",
        "    user_id=\"user1\",\n",
        "    session_id=local_session.id,\n",
        "    message=question,\n",
        "):\n",
        "   # not a robust way to print the result! should test for each element and aggregate parts into 1 answer\n",
        "   print(\"[local test] \" + event[\"content\"][\"parts\"][0][\"text\"])\n"
      ],
      "metadata": {
        "id": "CE-eNefhFovr"
      },
      "id": "CE-eNefhFovr",
      "execution_count": null,
      "outputs": []
    },
    {
      "cell_type": "markdown",
      "source": [
        "# Deploy to Agent Engine\n",
        "\n",
        "If you want to run this several times, change the app name in the setting section above.  \n",
        "\n",
        "This will  \n",
        "1. pack agent and dependencies to a GCS bucket  \n",
        "1. Create the agent engine a.k.a. a reasoning engine  \n",
        "1. Deploy the agent to Agent engine  \n",
        "1. To check in the cloud console\n",
        "  1. Navigate to Vertex AI > Agent Engine (in the Agent Builder section)    \n",
        "  1. Select one of the deployed agent to see details  \n",
        "  1. explore the \"Deployment details\" link in the top of the screen  "
      ],
      "metadata": {
        "id": "GrSlCN02Oc6h"
      },
      "id": "GrSlCN02Oc6h"
    },
    {
      "cell_type": "code",
      "source": [
        "from vertexai import agent_engines\n",
        "\n",
        "remote_app = agent_engines.create(\n",
        "    display_name=os.getenv(\"AE_APP_NAME\", \"my agent App\"),\n",
        "    agent_engine=root_agent,\n",
        "    extra_packages=[],\n",
        "    requirements=[\n",
        "        \"google-cloud-aiplatform[adk,agent_engines]\"\n",
        "    ]\n",
        ")\n",
        "print(remote_app)"
      ],
      "metadata": {
        "id": "9MVP_8DNOgcn"
      },
      "id": "9MVP_8DNOgcn",
      "execution_count": null,
      "outputs": []
    },
    {
      "cell_type": "markdown",
      "source": [
        "## List the agents running in Agent engine\n",
        "\n"
      ],
      "metadata": {
        "id": "h_9yHNbPZHxO"
      },
      "id": "h_9yHNbPZHxO"
    },
    {
      "cell_type": "markdown",
      "source": [
        "The human friendly name is called Display name, while the machine friendly id is called name and is in the form of  *1234567890123456789*  \n",
        "The full name of an agent in Agent Engine is in the form _projects/**project-id**/locations/**region name**/reasoningEngines/**name**_  \n",
        "Disc: earlier versions used the project number and not the project id - it \"seems\" that it's ok to use the project ID.\n",
        "The name is also part of the query URL  "
      ],
      "metadata": {
        "id": "pfVNzcmGbyG9"
      },
      "id": "pfVNzcmGbyG9"
    },
    {
      "cell_type": "code",
      "source": [
        "\n",
        "# list all agents\n",
        "ae_apps = agent_engines.list()\n",
        "\n",
        "print(\"Display name | name\")\n",
        "for app in ae_apps:\n",
        "    print(app.display_name + \" | \" + app.name)\n",
        "\n",
        "# finding apps by name:\n",
        "# ae_apps = agent_engines.list(filter=f'display_name=\"{app_name}\"')\n",
        "# remote_app = next(ae_apps)\n"
      ],
      "metadata": {
        "id": "N1srkRVBZYrb"
      },
      "id": "N1srkRVBZYrb",
      "execution_count": null,
      "outputs": []
    },
    {
      "cell_type": "markdown",
      "source": [
        "## Query your agent running in Agent Engine\n",
        "\n",
        "\n"
      ],
      "metadata": {
        "id": "uTcSKxLFYd11"
      },
      "id": "uTcSKxLFYd11"
    },
    {
      "cell_type": "code",
      "source": [
        "print(\"[question] \" + question)\n",
        "\n",
        "# Note: reusing the last deployed app, alt you could find the app by filtrering by name\n",
        "# finding apps by name:\n",
        "# ae_apps = agent_engines.list(filter=f'display_name=\"{app_name}\"')\n",
        "# remote_app = next(ae_apps)\n",
        "\n",
        "# Get a session for the remote app\n",
        "remote_session = remote_app.create_session(user_id=\"u_456\")\n",
        "\n",
        "# Stream query to get the answer\n",
        "# Naively print the text of the 1st part of the answer (assuming it exists)\n",
        "for event in remote_app.stream_query(\n",
        "    user_id=\"u_456\",\n",
        "    session_id=remote_session[\"id\"],\n",
        "    message=question,\n",
        "):\n",
        "   # not a robust way to print the result! should test for each element and aggregate parts into 1 answer\n",
        "   print(\"[Agent engine] \" + event[\"content\"][\"parts\"][0][\"text\"])\n"
      ],
      "metadata": {
        "id": "Bw6A4SE5Y-C9"
      },
      "id": "Bw6A4SE5Y-C9",
      "execution_count": null,
      "outputs": []
    },
    {
      "cell_type": "markdown",
      "source": [
        "## Delete agents\n",
        "\n",
        "To delete an agent, you can either:  \n",
        " - use a reference if you have it. Using force=true to delete the child resources like sessions & memory   \n"
      ],
      "metadata": {
        "id": "WUDleBvbPqHI"
      },
      "id": "WUDleBvbPqHI"
    },
    {
      "cell_type": "code",
      "source": [
        "print(\"deleting agent: \" + remote_app.display_name)\n",
        "remote_app.delete(force=True)"
      ],
      "metadata": {
        "id": "wpUvRpBfKOb_"
      },
      "id": "wpUvRpBfKOb_",
      "execution_count": null,
      "outputs": []
    },
    {
      "cell_type": "markdown",
      "source": [
        " - or alt. delete from the agent engine by using the agent name.\n",
        "\n",
        " Note that when using the agent engine, you will be able to delete an agent in any project you have access to.  "
      ],
      "metadata": {
        "id": "Fhg4UoJvQpAa"
      },
      "id": "Fhg4UoJvQpAa"
    },
    {
      "cell_type": "code",
      "source": [
        "print(\"Using Agent engine to delete an agent by name \")\n",
        "agent_engines.delete(\"projects/my-project-jn3xifcv/locations/us-central1/reasoningEngines/12345678912345678\")\n"
      ],
      "metadata": {
        "id": "xpdR3wo8LbWr"
      },
      "id": "xpdR3wo8LbWr",
      "execution_count": null,
      "outputs": []
    },
    {
      "cell_type": "markdown",
      "source": [
        "# Clean-up\n",
        "\n",
        "1. Delete the project if this was a sandbox\n",
        "2. if you want to keep the project, you will need to\n",
        "  1. delete the agent(s) (using force=true to delete the child resources like sessions & memory)\n",
        "  1. delete the GCS bucket\n",
        "\n"
      ],
      "metadata": {
        "id": "bTDvOG3io40P"
      },
      "id": "bTDvOG3io40P"
    }
  ],
  "metadata": {
    "kernelspec": {
      "display_name": "Python 3",
      "name": "python3"
    },
    "language_info": {
      "codemirror_mode": {
        "name": "ipython",
        "version": 3
      },
      "file_extension": ".py",
      "mimetype": "text/x-python",
      "name": "python",
      "nbconvert_exporter": "python",
      "pygments_lexer": "ipython3",
      "version": "3.10.10"
    },
    "colab": {
      "provenance": [],
      "name": "create agent and deploy to Agent engine",
      "collapsed_sections": [
        "0Ziy3fIUmD-z"
      ]
    }
  },
  "nbformat": 4,
  "nbformat_minor": 5
}
