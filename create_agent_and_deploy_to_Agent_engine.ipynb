{
  "cells": [
    {
      "cell_type": "markdown",
      "source": [
        "# create an agent with adk, deploy it to Agent Engine and publish it to Agentspace"
      ],
      "metadata": {
        "id": "0ENxLwaQYyR7"
      },
      "id": "0ENxLwaQYyR7"
    },
    {
      "cell_type": "markdown",
      "source": [
        "# Authentication\n",
        "Mostly for Google Colab.  \n",
        "You will be authenticated with your user in Colab Enterprise (Vertex AI)"
      ],
      "metadata": {
        "id": "0Ziy3fIUmD-z"
      },
      "id": "0Ziy3fIUmD-z"
    },
    {
      "cell_type": "code",
      "id": "HOkANNRBs7EbQre1vWDgt337",
      "metadata": {
        "tags": [],
        "id": "HOkANNRBs7EbQre1vWDgt337",
        "collapsed": true
      },
      "source": [
        "import sys\n",
        "\n",
        "if \"google.colab\" in sys.modules:\n",
        "    print(\"Running in Google Colab environment\")\n",
        "    from google.colab import auth\n",
        "    auth.authenticate_user()"
      ],
      "execution_count": null,
      "outputs": []
    },
    {
      "cell_type": "markdown",
      "source": [
        "# Configuration"
      ],
      "metadata": {
        "id": "7vVk6nn3mZIn"
      },
      "id": "7vVk6nn3mZIn"
    },
    {
      "cell_type": "code",
      "source": [
        "# @title Settings\n",
        "#@markdown ---\n",
        "#@markdown ### Configure your settings below:\n",
        "\n",
        "#@markdown _What is the ID of your Google Cloud project._\n",
        "\n",
        "PROJECT_ID = \"dbr-console-testing-1xziqpsq\" #@param {type:\"string\"}\n",
        "#@markdown _The Google Cloud region you are using_\n",
        "LOCATION = \"us-central1\"  #@param {type:\"string\"}\n",
        "#@markdown _The model to use is_\n",
        "MODEL = \"gemini-2.0-flash-001\" #@param [\"gemini-2.0-pro-exp-02-05\",\"gemini-1.5-pro-002\",\"gemini-1.5-flash-001\",\"gemini-2.0-flash-001\"]\n",
        "#@markdown _The name of your agent in Agent Engine_\n",
        "AE_APP_NAME = \"My agent in A-Engine\"  #@param {type:\"string\"}\n",
        "#@markdown _The ID of your existing Agentspace application_\n",
        "AS_APP=\"dom-as_1753424990568\" #@param {type:\"string\"}\n",
        "\n",
        "import os\n",
        "os.environ[\"GOOGLE_GENAI_USE_VERTEXAI\"] = \"1\"\n",
        "os.environ[\"GOOGLE_CLOUD_PROJECT\"] = PROJECT_ID\n",
        "os.environ[\"GOOGLE_CLOUD_LOCATION\"] = LOCATION\n",
        "os.environ[\"AE_APP_NAME\"] = AE_APP_NAME\n",
        "os.environ[\"AS_APP\"] = AS_APP\n"
      ],
      "metadata": {
        "id": "p7D63MUFaIGt",
        "cellView": "form"
      },
      "id": "p7D63MUFaIGt",
      "execution_count": 34,
      "outputs": []
    },
    {
      "cell_type": "code",
      "source": [
        "!pip install --upgrade \"google-cloud-aiplatform[adk,agent_engines]>1.100\""
      ],
      "metadata": {
        "colab": {
          "base_uri": "https://localhost:8080/"
        },
        "collapsed": true,
        "id": "BhptKTKSY8n5",
        "outputId": "250a8a5c-e900-4f2b-b08b-81be5367797c"
      },
      "id": "BhptKTKSY8n5",
      "execution_count": null,
      "outputs": [
        {
          "output_type": "stream",
          "name": "stdout",
          "text": [
            "Requirement already satisfied: google-cloud-aiplatform>1.100 in /usr/local/lib/python3.11/dist-packages (from google-cloud-aiplatform[adk,agent_engines]>1.100) (1.103.0)\n",
            "Collecting google-cloud-aiplatform>1.100 (from google-cloud-aiplatform[adk,agent_engines]>1.100)\n",
            "  Downloading google_cloud_aiplatform-1.105.0-py2.py3-none-any.whl.metadata (38 kB)\n",
            "Requirement already satisfied: google-api-core!=2.0.*,!=2.1.*,!=2.2.*,!=2.3.*,!=2.4.*,!=2.5.*,!=2.6.*,!=2.7.*,<3.0.0,>=1.34.1 in /usr/local/lib/python3.11/dist-packages (from google-api-core[grpc]!=2.0.*,!=2.1.*,!=2.2.*,!=2.3.*,!=2.4.*,!=2.5.*,!=2.6.*,!=2.7.*,<3.0.0,>=1.34.1->google-cloud-aiplatform>1.100->google-cloud-aiplatform[adk,agent_engines]>1.100) (2.25.1)\n",
            "Requirement already satisfied: google-auth<3.0.0,>=2.14.1 in /usr/local/lib/python3.11/dist-packages (from google-cloud-aiplatform>1.100->google-cloud-aiplatform[adk,agent_engines]>1.100) (2.38.0)\n",
            "Requirement already satisfied: proto-plus<2.0.0,>=1.22.3 in /usr/local/lib/python3.11/dist-packages (from google-cloud-aiplatform>1.100->google-cloud-aiplatform[adk,agent_engines]>1.100) (1.26.1)\n",
            "Requirement already satisfied: protobuf!=4.21.0,!=4.21.1,!=4.21.2,!=4.21.3,!=4.21.4,!=4.21.5,<7.0.0,>=3.20.2 in /usr/local/lib/python3.11/dist-packages (from google-cloud-aiplatform>1.100->google-cloud-aiplatform[adk,agent_engines]>1.100) (5.29.5)\n",
            "Requirement already satisfied: packaging>=14.3 in /usr/local/lib/python3.11/dist-packages (from google-cloud-aiplatform>1.100->google-cloud-aiplatform[adk,agent_engines]>1.100) (25.0)\n",
            "Requirement already satisfied: google-cloud-storage<3.0.0,>=1.32.0 in /usr/local/lib/python3.11/dist-packages (from google-cloud-aiplatform>1.100->google-cloud-aiplatform[adk,agent_engines]>1.100) (2.19.0)\n",
            "Requirement already satisfied: google-cloud-bigquery!=3.20.0,<4.0.0,>=1.15.0 in /usr/local/lib/python3.11/dist-packages (from google-cloud-aiplatform>1.100->google-cloud-aiplatform[adk,agent_engines]>1.100) (3.34.0)\n",
            "Requirement already satisfied: google-cloud-resource-manager<3.0.0,>=1.3.3 in /usr/local/lib/python3.11/dist-packages (from google-cloud-aiplatform>1.100->google-cloud-aiplatform[adk,agent_engines]>1.100) (1.14.2)\n",
            "Requirement already satisfied: shapely<3.0.0 in /usr/local/lib/python3.11/dist-packages (from google-cloud-aiplatform>1.100->google-cloud-aiplatform[adk,agent_engines]>1.100) (2.1.1)\n",
            "Requirement already satisfied: google-genai<2.0.0,>=1.0.0 in /usr/local/lib/python3.11/dist-packages (from google-cloud-aiplatform>1.100->google-cloud-aiplatform[adk,agent_engines]>1.100) (1.25.0)\n",
            "Requirement already satisfied: pydantic<3 in /usr/local/lib/python3.11/dist-packages (from google-cloud-aiplatform>1.100->google-cloud-aiplatform[adk,agent_engines]>1.100) (2.11.7)\n",
            "Requirement already satisfied: typing_extensions in /usr/local/lib/python3.11/dist-packages (from google-cloud-aiplatform>1.100->google-cloud-aiplatform[adk,agent_engines]>1.100) (4.14.1)\n",
            "Requirement already satisfied: docstring_parser<1 in /usr/local/lib/python3.11/dist-packages (from google-cloud-aiplatform>1.100->google-cloud-aiplatform[adk,agent_engines]>1.100) (0.16)\n",
            "Collecting google-adk<2.0.0,>=1.0.0 (from google-cloud-aiplatform[adk,agent_engines]>1.100)\n",
            "  Downloading google_adk-1.8.0-py3-none-any.whl.metadata (10 kB)\n",
            "Requirement already satisfied: cloudpickle<4.0,>=3.0 in /usr/local/lib/python3.11/dist-packages (from google-cloud-aiplatform[adk,agent_engines]>1.100) (3.1.1)\n",
            "Collecting google-cloud-trace<2 (from google-cloud-aiplatform[adk,agent_engines]>1.100)\n",
            "  Downloading google_cloud_trace-1.16.2-py3-none-any.whl.metadata (9.7 kB)\n",
            "Collecting google-cloud-logging<4 (from google-cloud-aiplatform[adk,agent_engines]>1.100)\n",
            "  Downloading google_cloud_logging-3.12.1-py2.py3-none-any.whl.metadata (5.0 kB)\n",
            "Collecting opentelemetry-sdk<2 (from google-cloud-aiplatform[adk,agent_engines]>1.100)\n",
            "  Downloading opentelemetry_sdk-1.35.0-py3-none-any.whl.metadata (1.5 kB)\n",
            "Collecting opentelemetry-exporter-gcp-trace<2 (from google-cloud-aiplatform[adk,agent_engines]>1.100)\n",
            "  Downloading opentelemetry_exporter_gcp_trace-1.9.0-py3-none-any.whl.metadata (3.3 kB)\n",
            "Requirement already satisfied: PyYAML>=6.0.2 in /usr/local/lib/python3.11/dist-packages (from google-adk<2.0.0,>=1.0.0->google-cloud-aiplatform[adk,agent_engines]>1.100) (6.0.2)\n",
            "Requirement already satisfied: anyio>=4.9.0 in /usr/local/lib/python3.11/dist-packages (from google-adk<2.0.0,>=1.0.0->google-cloud-aiplatform[adk,agent_engines]>1.100) (4.9.0)\n",
            "Collecting authlib>=1.5.1 (from google-adk<2.0.0,>=1.0.0->google-cloud-aiplatform[adk,agent_engines]>1.100)\n",
            "  Downloading authlib-1.6.1-py2.py3-none-any.whl.metadata (1.6 kB)\n",
            "Requirement already satisfied: click>=8.1.8 in /usr/local/lib/python3.11/dist-packages (from google-adk<2.0.0,>=1.0.0->google-cloud-aiplatform[adk,agent_engines]>1.100) (8.2.1)\n",
            "Requirement already satisfied: fastapi>=0.115.0 in /usr/local/lib/python3.11/dist-packages (from google-adk<2.0.0,>=1.0.0->google-cloud-aiplatform[adk,agent_engines]>1.100) (0.116.1)\n",
            "Requirement already satisfied: google-api-python-client>=2.157.0 in /usr/local/lib/python3.11/dist-packages (from google-adk<2.0.0,>=1.0.0->google-cloud-aiplatform[adk,agent_engines]>1.100) (2.176.0)\n",
            "Collecting google-cloud-secret-manager>=2.22.0 (from google-adk<2.0.0,>=1.0.0->google-cloud-aiplatform[adk,agent_engines]>1.100)\n",
            "  Downloading google_cloud_secret_manager-2.24.0-py3-none-any.whl.metadata (9.7 kB)\n",
            "Collecting google-cloud-speech>=2.30.0 (from google-adk<2.0.0,>=1.0.0->google-cloud-aiplatform[adk,agent_engines]>1.100)\n",
            "  Downloading google_cloud_speech-2.33.0-py3-none-any.whl.metadata (9.6 kB)\n",
            "Requirement already satisfied: graphviz>=0.20.2 in /usr/local/lib/python3.11/dist-packages (from google-adk<2.0.0,>=1.0.0->google-cloud-aiplatform[adk,agent_engines]>1.100) (0.21)\n",
            "Collecting mcp>=1.8.0 (from google-adk<2.0.0,>=1.0.0->google-cloud-aiplatform[adk,agent_engines]>1.100)\n",
            "  Downloading mcp-1.12.2-py3-none-any.whl.metadata (60 kB)\n",
            "\u001b[2K     \u001b[90m━━━━━━━━━━━━━━━━━━━━━━━━━━━━━━━━━━━━━━━━\u001b[0m \u001b[32m61.0/61.0 kB\u001b[0m \u001b[31m8.9 MB/s\u001b[0m eta \u001b[36m0:00:00\u001b[0m\n",
            "\u001b[?25hCollecting opentelemetry-api>=1.31.0 (from google-adk<2.0.0,>=1.0.0->google-cloud-aiplatform[adk,agent_engines]>1.100)\n",
            "  Downloading opentelemetry_api-1.35.0-py3-none-any.whl.metadata (1.5 kB)\n",
            "Requirement already satisfied: python-dateutil>=2.9.0.post0 in /usr/local/lib/python3.11/dist-packages (from google-adk<2.0.0,>=1.0.0->google-cloud-aiplatform[adk,agent_engines]>1.100) (2.9.0.post0)\n",
            "Collecting python-dotenv>=1.0.0 (from google-adk<2.0.0,>=1.0.0->google-cloud-aiplatform[adk,agent_engines]>1.100)\n",
            "  Downloading python_dotenv-1.1.1-py3-none-any.whl.metadata (24 kB)\n",
            "Collecting requests>=2.32.4 (from google-adk<2.0.0,>=1.0.0->google-cloud-aiplatform[adk,agent_engines]>1.100)\n",
            "  Downloading requests-2.32.4-py3-none-any.whl.metadata (4.9 kB)\n",
            "Requirement already satisfied: sqlalchemy>=2.0 in /usr/local/lib/python3.11/dist-packages (from google-adk<2.0.0,>=1.0.0->google-cloud-aiplatform[adk,agent_engines]>1.100) (2.0.41)\n",
            "Requirement already satisfied: starlette>=0.46.2 in /usr/local/lib/python3.11/dist-packages (from google-adk<2.0.0,>=1.0.0->google-cloud-aiplatform[adk,agent_engines]>1.100) (0.47.1)\n",
            "Requirement already satisfied: tenacity>=8.0.0 in /usr/local/lib/python3.11/dist-packages (from google-adk<2.0.0,>=1.0.0->google-cloud-aiplatform[adk,agent_engines]>1.100) (8.5.0)\n",
            "Requirement already satisfied: tzlocal>=5.3 in /usr/local/lib/python3.11/dist-packages (from google-adk<2.0.0,>=1.0.0->google-cloud-aiplatform[adk,agent_engines]>1.100) (5.3.1)\n",
            "Requirement already satisfied: uvicorn>=0.34.0 in /usr/local/lib/python3.11/dist-packages (from google-adk<2.0.0,>=1.0.0->google-cloud-aiplatform[adk,agent_engines]>1.100) (0.35.0)\n",
            "Collecting watchdog>=6.0.0 (from google-adk<2.0.0,>=1.0.0->google-cloud-aiplatform[adk,agent_engines]>1.100)\n",
            "  Downloading watchdog-6.0.0-py3-none-manylinux2014_x86_64.whl.metadata (44 kB)\n",
            "\u001b[2K     \u001b[90m━━━━━━━━━━━━━━━━━━━━━━━━━━━━━━━━━━━━━━━━\u001b[0m \u001b[32m44.3/44.3 kB\u001b[0m \u001b[31m6.1 MB/s\u001b[0m eta \u001b[36m0:00:00\u001b[0m\n",
            "\u001b[?25hRequirement already satisfied: websockets>=15.0.1 in /usr/local/lib/python3.11/dist-packages (from google-adk<2.0.0,>=1.0.0->google-cloud-aiplatform[adk,agent_engines]>1.100) (15.0.1)\n",
            "Requirement already satisfied: googleapis-common-protos<2.0.0,>=1.56.2 in /usr/local/lib/python3.11/dist-packages (from google-api-core!=2.0.*,!=2.1.*,!=2.2.*,!=2.3.*,!=2.4.*,!=2.5.*,!=2.6.*,!=2.7.*,<3.0.0,>=1.34.1->google-api-core[grpc]!=2.0.*,!=2.1.*,!=2.2.*,!=2.3.*,!=2.4.*,!=2.5.*,!=2.6.*,!=2.7.*,<3.0.0,>=1.34.1->google-cloud-aiplatform>1.100->google-cloud-aiplatform[adk,agent_engines]>1.100) (1.70.0)\n",
            "Requirement already satisfied: grpcio<2.0.0,>=1.33.2 in /usr/local/lib/python3.11/dist-packages (from google-api-core[grpc]!=2.0.*,!=2.1.*,!=2.2.*,!=2.3.*,!=2.4.*,!=2.5.*,!=2.6.*,!=2.7.*,<3.0.0,>=1.34.1->google-cloud-aiplatform>1.100->google-cloud-aiplatform[adk,agent_engines]>1.100) (1.73.1)\n",
            "Requirement already satisfied: grpcio-status<2.0.0,>=1.33.2 in /usr/local/lib/python3.11/dist-packages (from google-api-core[grpc]!=2.0.*,!=2.1.*,!=2.2.*,!=2.3.*,!=2.4.*,!=2.5.*,!=2.6.*,!=2.7.*,<3.0.0,>=1.34.1->google-cloud-aiplatform>1.100->google-cloud-aiplatform[adk,agent_engines]>1.100) (1.71.2)\n",
            "Requirement already satisfied: cachetools<6.0,>=2.0.0 in /usr/local/lib/python3.11/dist-packages (from google-auth<3.0.0,>=2.14.1->google-cloud-aiplatform>1.100->google-cloud-aiplatform[adk,agent_engines]>1.100) (5.5.2)\n",
            "Requirement already satisfied: pyasn1-modules>=0.2.1 in /usr/local/lib/python3.11/dist-packages (from google-auth<3.0.0,>=2.14.1->google-cloud-aiplatform>1.100->google-cloud-aiplatform[adk,agent_engines]>1.100) (0.4.2)\n",
            "Requirement already satisfied: rsa<5,>=3.1.4 in /usr/local/lib/python3.11/dist-packages (from google-auth<3.0.0,>=2.14.1->google-cloud-aiplatform>1.100->google-cloud-aiplatform[adk,agent_engines]>1.100) (4.9.1)\n",
            "Requirement already satisfied: google-cloud-core<3.0.0,>=2.4.1 in /usr/local/lib/python3.11/dist-packages (from google-cloud-bigquery!=3.20.0,<4.0.0,>=1.15.0->google-cloud-aiplatform>1.100->google-cloud-aiplatform[adk,agent_engines]>1.100) (2.4.3)\n",
            "Requirement already satisfied: google-resumable-media<3.0.0,>=2.0.0 in /usr/local/lib/python3.11/dist-packages (from google-cloud-bigquery!=3.20.0,<4.0.0,>=1.15.0->google-cloud-aiplatform>1.100->google-cloud-aiplatform[adk,agent_engines]>1.100) (2.7.2)\n",
            "Collecting google-cloud-appengine-logging<2.0.0,>=0.1.3 (from google-cloud-logging<4->google-cloud-aiplatform[adk,agent_engines]>1.100)\n",
            "  Downloading google_cloud_appengine_logging-1.6.2-py3-none-any.whl.metadata (9.9 kB)\n",
            "Collecting google-cloud-audit-log<1.0.0,>=0.3.1 (from google-cloud-logging<4->google-cloud-aiplatform[adk,agent_engines]>1.100)\n",
            "  Downloading google_cloud_audit_log-0.3.2-py3-none-any.whl.metadata (9.0 kB)\n",
            "Requirement already satisfied: grpc-google-iam-v1<1.0.0,>=0.12.4 in /usr/local/lib/python3.11/dist-packages (from google-cloud-logging<4->google-cloud-aiplatform[adk,agent_engines]>1.100) (0.14.2)\n",
            "Requirement already satisfied: google-crc32c<2.0dev,>=1.0 in /usr/local/lib/python3.11/dist-packages (from google-cloud-storage<3.0.0,>=1.32.0->google-cloud-aiplatform>1.100->google-cloud-aiplatform[adk,agent_engines]>1.100) (1.7.1)\n",
            "Requirement already satisfied: httpx<1.0.0,>=0.28.1 in /usr/local/lib/python3.11/dist-packages (from google-genai<2.0.0,>=1.0.0->google-cloud-aiplatform>1.100->google-cloud-aiplatform[adk,agent_engines]>1.100) (0.28.1)\n",
            "Collecting opentelemetry-resourcedetector-gcp==1.*,>=1.5.0dev0 (from opentelemetry-exporter-gcp-trace<2->google-cloud-aiplatform[adk,agent_engines]>1.100)\n",
            "  Downloading opentelemetry_resourcedetector_gcp-1.9.0a0-py3-none-any.whl.metadata (2.4 kB)\n",
            "Collecting opentelemetry-semantic-conventions==0.56b0 (from opentelemetry-sdk<2->google-cloud-aiplatform[adk,agent_engines]>1.100)\n",
            "  Downloading opentelemetry_semantic_conventions-0.56b0-py3-none-any.whl.metadata (2.4 kB)\n",
            "Requirement already satisfied: importlib-metadata<8.8.0,>=6.0 in /usr/local/lib/python3.11/dist-packages (from opentelemetry-api>=1.31.0->google-adk<2.0.0,>=1.0.0->google-cloud-aiplatform[adk,agent_engines]>1.100) (8.7.0)\n",
            "Requirement already satisfied: annotated-types>=0.6.0 in /usr/local/lib/python3.11/dist-packages (from pydantic<3->google-cloud-aiplatform>1.100->google-cloud-aiplatform[adk,agent_engines]>1.100) (0.7.0)\n",
            "Requirement already satisfied: pydantic-core==2.33.2 in /usr/local/lib/python3.11/dist-packages (from pydantic<3->google-cloud-aiplatform>1.100->google-cloud-aiplatform[adk,agent_engines]>1.100) (2.33.2)\n",
            "Requirement already satisfied: typing-inspection>=0.4.0 in /usr/local/lib/python3.11/dist-packages (from pydantic<3->google-cloud-aiplatform>1.100->google-cloud-aiplatform[adk,agent_engines]>1.100) (0.4.1)\n",
            "Requirement already satisfied: numpy>=1.21 in /usr/local/lib/python3.11/dist-packages (from shapely<3.0.0->google-cloud-aiplatform>1.100->google-cloud-aiplatform[adk,agent_engines]>1.100) (2.0.2)\n",
            "Requirement already satisfied: idna>=2.8 in /usr/local/lib/python3.11/dist-packages (from anyio>=4.9.0->google-adk<2.0.0,>=1.0.0->google-cloud-aiplatform[adk,agent_engines]>1.100) (3.10)\n",
            "Requirement already satisfied: sniffio>=1.1 in /usr/local/lib/python3.11/dist-packages (from anyio>=4.9.0->google-adk<2.0.0,>=1.0.0->google-cloud-aiplatform[adk,agent_engines]>1.100) (1.3.1)\n",
            "Requirement already satisfied: cryptography in /usr/local/lib/python3.11/dist-packages (from authlib>=1.5.1->google-adk<2.0.0,>=1.0.0->google-cloud-aiplatform[adk,agent_engines]>1.100) (43.0.3)\n",
            "Requirement already satisfied: httplib2<1.0.0,>=0.19.0 in /usr/local/lib/python3.11/dist-packages (from google-api-python-client>=2.157.0->google-adk<2.0.0,>=1.0.0->google-cloud-aiplatform[adk,agent_engines]>1.100) (0.22.0)\n",
            "Requirement already satisfied: google-auth-httplib2<1.0.0,>=0.2.0 in /usr/local/lib/python3.11/dist-packages (from google-api-python-client>=2.157.0->google-adk<2.0.0,>=1.0.0->google-cloud-aiplatform[adk,agent_engines]>1.100) (0.2.0)\n",
            "Requirement already satisfied: uritemplate<5,>=3.0.1 in /usr/local/lib/python3.11/dist-packages (from google-api-python-client>=2.157.0->google-adk<2.0.0,>=1.0.0->google-cloud-aiplatform[adk,agent_engines]>1.100) (4.2.0)\n",
            "Requirement already satisfied: certifi in /usr/local/lib/python3.11/dist-packages (from httpx<1.0.0,>=0.28.1->google-genai<2.0.0,>=1.0.0->google-cloud-aiplatform>1.100->google-cloud-aiplatform[adk,agent_engines]>1.100) (2025.7.14)\n",
            "Requirement already satisfied: httpcore==1.* in /usr/local/lib/python3.11/dist-packages (from httpx<1.0.0,>=0.28.1->google-genai<2.0.0,>=1.0.0->google-cloud-aiplatform>1.100->google-cloud-aiplatform[adk,agent_engines]>1.100) (1.0.9)\n",
            "Requirement already satisfied: h11>=0.16 in /usr/local/lib/python3.11/dist-packages (from httpcore==1.*->httpx<1.0.0,>=0.28.1->google-genai<2.0.0,>=1.0.0->google-cloud-aiplatform>1.100->google-cloud-aiplatform[adk,agent_engines]>1.100) (0.16.0)\n",
            "Collecting httpx-sse>=0.4 (from mcp>=1.8.0->google-adk<2.0.0,>=1.0.0->google-cloud-aiplatform[adk,agent_engines]>1.100)\n",
            "  Downloading httpx_sse-0.4.1-py3-none-any.whl.metadata (9.4 kB)\n",
            "Requirement already satisfied: jsonschema>=4.20.0 in /usr/local/lib/python3.11/dist-packages (from mcp>=1.8.0->google-adk<2.0.0,>=1.0.0->google-cloud-aiplatform[adk,agent_engines]>1.100) (4.24.0)\n",
            "Collecting pydantic-settings>=2.5.2 (from mcp>=1.8.0->google-adk<2.0.0,>=1.0.0->google-cloud-aiplatform[adk,agent_engines]>1.100)\n",
            "  Downloading pydantic_settings-2.10.1-py3-none-any.whl.metadata (3.4 kB)\n",
            "Requirement already satisfied: python-multipart>=0.0.9 in /usr/local/lib/python3.11/dist-packages (from mcp>=1.8.0->google-adk<2.0.0,>=1.0.0->google-cloud-aiplatform[adk,agent_engines]>1.100) (0.0.20)\n",
            "Collecting sse-starlette>=1.6.1 (from mcp>=1.8.0->google-adk<2.0.0,>=1.0.0->google-cloud-aiplatform[adk,agent_engines]>1.100)\n",
            "  Downloading sse_starlette-3.0.2-py3-none-any.whl.metadata (11 kB)\n",
            "Requirement already satisfied: pyasn1<0.7.0,>=0.6.1 in /usr/local/lib/python3.11/dist-packages (from pyasn1-modules>=0.2.1->google-auth<3.0.0,>=2.14.1->google-cloud-aiplatform>1.100->google-cloud-aiplatform[adk,agent_engines]>1.100) (0.6.1)\n",
            "Requirement already satisfied: six>=1.5 in /usr/local/lib/python3.11/dist-packages (from python-dateutil>=2.9.0.post0->google-adk<2.0.0,>=1.0.0->google-cloud-aiplatform[adk,agent_engines]>1.100) (1.17.0)\n",
            "Requirement already satisfied: charset_normalizer<4,>=2 in /usr/local/lib/python3.11/dist-packages (from requests>=2.32.4->google-adk<2.0.0,>=1.0.0->google-cloud-aiplatform[adk,agent_engines]>1.100) (3.4.2)\n",
            "Requirement already satisfied: urllib3<3,>=1.21.1 in /usr/local/lib/python3.11/dist-packages (from requests>=2.32.4->google-adk<2.0.0,>=1.0.0->google-cloud-aiplatform[adk,agent_engines]>1.100) (2.4.0)\n",
            "Requirement already satisfied: greenlet>=1 in /usr/local/lib/python3.11/dist-packages (from sqlalchemy>=2.0->google-adk<2.0.0,>=1.0.0->google-cloud-aiplatform[adk,agent_engines]>1.100) (3.2.3)\n",
            "Requirement already satisfied: pyparsing!=3.0.0,!=3.0.1,!=3.0.2,!=3.0.3,<4,>=2.4.2 in /usr/local/lib/python3.11/dist-packages (from httplib2<1.0.0,>=0.19.0->google-api-python-client>=2.157.0->google-adk<2.0.0,>=1.0.0->google-cloud-aiplatform[adk,agent_engines]>1.100) (3.2.3)\n",
            "Requirement already satisfied: zipp>=3.20 in /usr/local/lib/python3.11/dist-packages (from importlib-metadata<8.8.0,>=6.0->opentelemetry-api>=1.31.0->google-adk<2.0.0,>=1.0.0->google-cloud-aiplatform[adk,agent_engines]>1.100) (3.23.0)\n",
            "Requirement already satisfied: attrs>=22.2.0 in /usr/local/lib/python3.11/dist-packages (from jsonschema>=4.20.0->mcp>=1.8.0->google-adk<2.0.0,>=1.0.0->google-cloud-aiplatform[adk,agent_engines]>1.100) (25.3.0)\n",
            "Requirement already satisfied: jsonschema-specifications>=2023.03.6 in /usr/local/lib/python3.11/dist-packages (from jsonschema>=4.20.0->mcp>=1.8.0->google-adk<2.0.0,>=1.0.0->google-cloud-aiplatform[adk,agent_engines]>1.100) (2025.4.1)\n",
            "Requirement already satisfied: referencing>=0.28.4 in /usr/local/lib/python3.11/dist-packages (from jsonschema>=4.20.0->mcp>=1.8.0->google-adk<2.0.0,>=1.0.0->google-cloud-aiplatform[adk,agent_engines]>1.100) (0.36.2)\n",
            "Requirement already satisfied: rpds-py>=0.7.1 in /usr/local/lib/python3.11/dist-packages (from jsonschema>=4.20.0->mcp>=1.8.0->google-adk<2.0.0,>=1.0.0->google-cloud-aiplatform[adk,agent_engines]>1.100) (0.26.0)\n",
            "Requirement already satisfied: cffi>=1.12 in /usr/local/lib/python3.11/dist-packages (from cryptography->authlib>=1.5.1->google-adk<2.0.0,>=1.0.0->google-cloud-aiplatform[adk,agent_engines]>1.100) (1.17.1)\n",
            "Requirement already satisfied: pycparser in /usr/local/lib/python3.11/dist-packages (from cffi>=1.12->cryptography->authlib>=1.5.1->google-adk<2.0.0,>=1.0.0->google-cloud-aiplatform[adk,agent_engines]>1.100) (2.22)\n",
            "Downloading google_cloud_aiplatform-1.105.0-py2.py3-none-any.whl (7.9 MB)\n",
            "\u001b[2K   \u001b[90m━━━━━━━━━━━━━━━━━━━━━━━━━━━━━━━━━━━━━━━━\u001b[0m \u001b[32m7.9/7.9 MB\u001b[0m \u001b[31m72.1 MB/s\u001b[0m eta \u001b[36m0:00:00\u001b[0m\n",
            "\u001b[?25hDownloading google_adk-1.8.0-py3-none-any.whl (1.8 MB)\n",
            "\u001b[2K   \u001b[90m━━━━━━━━━━━━━━━━━━━━━━━━━━━━━━━━━━━━━━━━\u001b[0m \u001b[32m1.8/1.8 MB\u001b[0m \u001b[31m89.5 MB/s\u001b[0m eta \u001b[36m0:00:00\u001b[0m\n",
            "\u001b[?25hDownloading google_cloud_logging-3.12.1-py2.py3-none-any.whl (229 kB)\n",
            "\u001b[2K   \u001b[90m━━━━━━━━━━━━━━━━━━━━━━━━━━━━━━━━━━━━━━━━\u001b[0m \u001b[32m229.5/229.5 kB\u001b[0m \u001b[31m32.2 MB/s\u001b[0m eta \u001b[36m0:00:00\u001b[0m\n",
            "\u001b[?25hDownloading google_cloud_trace-1.16.2-py3-none-any.whl (103 kB)\n",
            "\u001b[2K   \u001b[90m━━━━━━━━━━━━━━━━━━━━━━━━━━━━━━━━━━━━━━━━\u001b[0m \u001b[32m103.8/103.8 kB\u001b[0m \u001b[31m15.7 MB/s\u001b[0m eta \u001b[36m0:00:00\u001b[0m\n",
            "\u001b[?25hDownloading opentelemetry_exporter_gcp_trace-1.9.0-py3-none-any.whl (13 kB)\n",
            "Downloading opentelemetry_resourcedetector_gcp-1.9.0a0-py3-none-any.whl (20 kB)\n",
            "Downloading opentelemetry_sdk-1.35.0-py3-none-any.whl (119 kB)\n",
            "\u001b[2K   \u001b[90m━━━━━━━━━━━━━━━━━━━━━━━━━━━━━━━━━━━━━━━━\u001b[0m \u001b[32m119.4/119.4 kB\u001b[0m \u001b[31m16.7 MB/s\u001b[0m eta \u001b[36m0:00:00\u001b[0m\n",
            "\u001b[?25hDownloading opentelemetry_api-1.35.0-py3-none-any.whl (65 kB)\n",
            "\u001b[2K   \u001b[90m━━━━━━━━━━━━━━━━━━━━━━━━━━━━━━━━━━━━━━━━\u001b[0m \u001b[32m65.6/65.6 kB\u001b[0m \u001b[31m9.2 MB/s\u001b[0m eta \u001b[36m0:00:00\u001b[0m\n",
            "\u001b[?25hDownloading opentelemetry_semantic_conventions-0.56b0-py3-none-any.whl (201 kB)\n",
            "\u001b[2K   \u001b[90m━━━━━━━━━━━━━━━━━━━━━━━━━━━━━━━━━━━━━━━━\u001b[0m \u001b[32m201.6/201.6 kB\u001b[0m \u001b[31m23.9 MB/s\u001b[0m eta \u001b[36m0:00:00\u001b[0m\n",
            "\u001b[?25hDownloading authlib-1.6.1-py2.py3-none-any.whl (239 kB)\n",
            "\u001b[2K   \u001b[90m━━━━━━━━━━━━━━━━━━━━━━━━━━━━━━━━━━━━━━━━\u001b[0m \u001b[32m239.3/239.3 kB\u001b[0m \u001b[31m31.6 MB/s\u001b[0m eta \u001b[36m0:00:00\u001b[0m\n",
            "\u001b[?25hDownloading google_cloud_appengine_logging-1.6.2-py3-none-any.whl (16 kB)\n",
            "Downloading google_cloud_audit_log-0.3.2-py3-none-any.whl (32 kB)\n",
            "Downloading google_cloud_secret_manager-2.24.0-py3-none-any.whl (218 kB)\n",
            "\u001b[2K   \u001b[90m━━━━━━━━━━━━━━━━━━━━━━━━━━━━━━━━━━━━━━━━\u001b[0m \u001b[32m218.1/218.1 kB\u001b[0m \u001b[31m28.3 MB/s\u001b[0m eta \u001b[36m0:00:00\u001b[0m\n",
            "\u001b[?25hDownloading google_cloud_speech-2.33.0-py3-none-any.whl (335 kB)\n",
            "\u001b[2K   \u001b[90m━━━━━━━━━━━━━━━━━━━━━━━━━━━━━━━━━━━━━━━━\u001b[0m \u001b[32m335.7/335.7 kB\u001b[0m \u001b[31m40.6 MB/s\u001b[0m eta \u001b[36m0:00:00\u001b[0m\n",
            "\u001b[?25hDownloading mcp-1.12.2-py3-none-any.whl (158 kB)\n",
            "\u001b[2K   \u001b[90m━━━━━━━━━━━━━━━━━━━━━━━━━━━━━━━━━━━━━━━━\u001b[0m \u001b[32m158.5/158.5 kB\u001b[0m \u001b[31m21.5 MB/s\u001b[0m eta \u001b[36m0:00:00\u001b[0m\n",
            "\u001b[?25hDownloading python_dotenv-1.1.1-py3-none-any.whl (20 kB)\n",
            "Downloading requests-2.32.4-py3-none-any.whl (64 kB)\n",
            "\u001b[2K   \u001b[90m━━━━━━━━━━━━━━━━━━━━━━━━━━━━━━━━━━━━━━━━\u001b[0m \u001b[32m64.8/64.8 kB\u001b[0m \u001b[31m8.7 MB/s\u001b[0m eta \u001b[36m0:00:00\u001b[0m\n",
            "\u001b[?25hDownloading watchdog-6.0.0-py3-none-manylinux2014_x86_64.whl (79 kB)\n",
            "\u001b[2K   \u001b[90m━━━━━━━━━━━━━━━━━━━━━━━━━━━━━━━━━━━━━━━━\u001b[0m \u001b[32m79.1/79.1 kB\u001b[0m \u001b[31m10.3 MB/s\u001b[0m eta \u001b[36m0:00:00\u001b[0m\n",
            "\u001b[?25hDownloading httpx_sse-0.4.1-py3-none-any.whl (8.1 kB)\n",
            "Downloading pydantic_settings-2.10.1-py3-none-any.whl (45 kB)\n",
            "\u001b[2K   \u001b[90m━━━━━━━━━━━━━━━━━━━━━━━━━━━━━━━━━━━━━━━━\u001b[0m \u001b[32m45.2/45.2 kB\u001b[0m \u001b[31m5.9 MB/s\u001b[0m eta \u001b[36m0:00:00\u001b[0m\n",
            "\u001b[?25hDownloading sse_starlette-3.0.2-py3-none-any.whl (11 kB)\n",
            "Installing collected packages: watchdog, requests, python-dotenv, httpx-sse, sse-starlette, opentelemetry-api, google-cloud-audit-log, pydantic-settings, opentelemetry-semantic-conventions, authlib, opentelemetry-sdk, mcp, opentelemetry-resourcedetector-gcp, google-cloud-trace, google-cloud-speech, google-cloud-secret-manager, google-cloud-appengine-logging, opentelemetry-exporter-gcp-trace, google-cloud-logging, google-cloud-aiplatform, google-adk\n",
            "  Attempting uninstall: requests\n",
            "    Found existing installation: requests 2.32.3\n",
            "    Uninstalling requests-2.32.3:\n",
            "      Successfully uninstalled requests-2.32.3\n",
            "  Attempting uninstall: google-cloud-aiplatform\n",
            "    Found existing installation: google-cloud-aiplatform 1.103.0\n",
            "    Uninstalling google-cloud-aiplatform-1.103.0:\n",
            "      Successfully uninstalled google-cloud-aiplatform-1.103.0\n",
            "\u001b[31mERROR: pip's dependency resolver does not currently take into account all the packages that are installed. This behaviour is the source of the following dependency conflicts.\n",
            "google-colab 1.0.0 requires requests==2.32.3, but you have requests 2.32.4 which is incompatible.\u001b[0m\u001b[31m\n",
            "\u001b[0mSuccessfully installed authlib-1.6.1 google-adk-1.8.0 google-cloud-aiplatform-1.105.0 google-cloud-appengine-logging-1.6.2 google-cloud-audit-log-0.3.2 google-cloud-logging-3.12.1 google-cloud-secret-manager-2.24.0 google-cloud-speech-2.33.0 google-cloud-trace-1.16.2 httpx-sse-0.4.1 mcp-1.12.2 opentelemetry-api-1.35.0 opentelemetry-exporter-gcp-trace-1.9.0 opentelemetry-resourcedetector-gcp-1.9.0a0 opentelemetry-sdk-1.35.0 opentelemetry-semantic-conventions-0.56b0 pydantic-settings-2.10.1 python-dotenv-1.1.1 requests-2.32.4 sse-starlette-3.0.2 watchdog-6.0.0\n"
          ]
        },
        {
          "output_type": "display_data",
          "data": {
            "application/vnd.colab-display-data+json": {
              "pip_warning": {
                "packages": [
                  "google"
                ]
              },
              "id": "35152e76d94b4ad1ac39f29399749848"
            }
          },
          "metadata": {}
        }
      ]
    },
    {
      "cell_type": "markdown",
      "source": [
        "# Configure Vertex AI"
      ],
      "metadata": {
        "id": "bEl-6_A-G7OD"
      },
      "id": "bEl-6_A-G7OD"
    },
    {
      "cell_type": "code",
      "source": [
        "import vertexai\n",
        "from dotenv import load_dotenv\n",
        "\n",
        "load_dotenv()\n",
        "vertexai.init(\n",
        "    project=os.getenv(\"GOOGLE_CLOUD_PROJECT\"),\n",
        "    location=os.getenv(\"GOOGLE_CLOUD_LOCATION\"),\n",
        "    staging_bucket=\"gs://\" + os.getenv(\"GOOGLE_CLOUD_PROJECT\")+\"-bucket\",\n",
        ")"
      ],
      "metadata": {
        "id": "FpjDeaKO_so6"
      },
      "id": "FpjDeaKO_so6",
      "execution_count": null,
      "outputs": []
    },
    {
      "cell_type": "markdown",
      "source": [
        "# Agent definition\n",
        "- no external dependencies\n",
        "- using a tool avalable in ADK"
      ],
      "metadata": {
        "id": "hWIwjlVLDaYM"
      },
      "id": "hWIwjlVLDaYM"
    },
    {
      "cell_type": "code",
      "source": [
        "from google.adk import Agent\n",
        "from google.adk.tools import google_search  # The Google Search tool\n",
        "\n",
        "root_agent = Agent(\n",
        "    # name: A unique name for the agent.\n",
        "    name=\"google_search_agent\",\n",
        "    # description: A short description of the agent's purpose, so\n",
        "    # other agents in a multi-agent system know when to call it.\n",
        "    description=\"Answer questions using Google Search.\",\n",
        "    # model: The LLM model that the agent will use:\n",
        "    model=\"gemini-2.0-flash-001\",\n",
        "    # instruction: Instructions (or the prompt) for the agent.\n",
        "    instruction=\"You are an expert researcher. You stick to the facts.\",\n",
        "\n",
        "    # tools: functions to enhance the model's capabilities.\n",
        "    # Add the google_search tool below.\n",
        "    tools=[google_search]\n",
        ")"
      ],
      "metadata": {
        "id": "Bkh6KmIQBAQD"
      },
      "id": "Bkh6KmIQBAQD",
      "execution_count": null,
      "outputs": []
    },
    {
      "cell_type": "markdown",
      "source": [
        "# Running locally\n",
        "- The agent will run in the Notebook"
      ],
      "metadata": {
        "id": "Nugjl0M6FcAH"
      },
      "id": "Nugjl0M6FcAH"
    },
    {
      "cell_type": "code",
      "source": [
        "# @title User input for the local test {\"run\":\"auto\",\"vertical-output\":true}\n",
        "question = \"what is the capital of France?\" #@param {type:\"string\"}"
      ],
      "metadata": {
        "id": "xS_AmUUoJhJ9",
        "cellView": "form"
      },
      "id": "xS_AmUUoJhJ9",
      "execution_count": null,
      "outputs": []
    },
    {
      "cell_type": "code",
      "source": [
        "from vertexai.preview.reasoning_engines import AdkApp\n",
        "from IPython.display import Markdown\n",
        "\n",
        "# Create a simple ADK app for the root_agent.\n",
        "my_agent =AdkApp(\n",
        "    agent=root_agent,\n",
        "    enable_tracing=True\n",
        ")\n",
        "\n",
        "# We need a session to use the agent\n",
        "local_session = my_agent.create_session(user_id=\"user1\")\n",
        "\n",
        "# Stream query to get the answer\n",
        "# Naively print the text of the 1st part of the answer (assuming it exists)\n",
        "for event in my_agent.stream_query(\n",
        "    user_id=\"user1\",\n",
        "    session_id=local_session.id,\n",
        "    message=question,\n",
        "):\n",
        "   # not robust way to print the result! should test for each element and aggregate parts into 1 answer\n",
        "   print(\"[local test] \" + event[\"content\"][\"parts\"][0][\"text\"])\n"
      ],
      "metadata": {
        "id": "CE-eNefhFovr"
      },
      "id": "CE-eNefhFovr",
      "execution_count": null,
      "outputs": []
    },
    {
      "cell_type": "markdown",
      "source": [
        "# Deploy to Agent Engine\n",
        "This will  \n",
        "1) pack agent and dependencies to a GCS bucket  \n",
        "2) Create the agent engine a.k.a. a reasoning engine  \n",
        "3)Deploy the agent to Agent engine"
      ],
      "metadata": {
        "id": "GrSlCN02Oc6h"
      },
      "id": "GrSlCN02Oc6h"
    },
    {
      "cell_type": "code",
      "source": [
        "from vertexai import agent_engines\n",
        "\n",
        "remote_app = agent_engines.create(\n",
        "    display_name=os.getenv(\"AE_APP_NAME\", \"my agent App\"),\n",
        "    agent_engine=root_agent,\n",
        "    extra_packages=[],\n",
        "    requirements=[\n",
        "        \"google-cloud-aiplatform[adk,agent_engines]\"\n",
        "    ]\n",
        ")"
      ],
      "metadata": {
        "id": "9MVP_8DNOgcn"
      },
      "id": "9MVP_8DNOgcn",
      "execution_count": null,
      "outputs": []
    },
    {
      "cell_type": "markdown",
      "source": [
        "# Publish to Agentspace\n",
        "Assumption: you have an existing Agentspace app available  \n"
      ],
      "metadata": {
        "id": "zFnzXXYheDth"
      },
      "id": "zFnzXXYheDth"
    },
    {
      "cell_type": "code",
      "source": [
        "%%bash\n",
        "export REASONING_ENGINE_NUMBER=3396655300990730240\n",
        "echo \"projects/${GOOGLE_CLOUD_PROJECT}/locations/${GOOGLE_CLOUD_LOCATION}/reasoningEngines/${REASONING_ENGINE_NUMBER}\"\n"
      ],
      "metadata": {
        "colab": {
          "base_uri": "https://localhost:8080/"
        },
        "id": "w7OV-eChphQy",
        "outputId": "c1917942-18ef-4bf1-f01b-13eaec5e8398"
      },
      "id": "w7OV-eChphQy",
      "execution_count": 37,
      "outputs": [
        {
          "output_type": "stream",
          "name": "stdout",
          "text": [
            "projects/dbr-console-testing-1xziqpsq/locations/us-central1/reasoningEngines/3396655300990730240\n"
          ]
        }
      ]
    },
    {
      "cell_type": "code",
      "source": [
        "%%bash\n",
        "# Agentspace\n",
        "export REASONING_ENGINE_NUMBER=3396655300990730240\n",
        "# the agent you want to register in Agent space - MUST be in the same project\n",
        "export AGENT_ENGINE=\"projects/${GOOGLE_CLOUD_PROJECT}/locations/${GOOGLE_CLOUD_LOCATION}/reasoningEngines/${REASONING_ENGINE_NUMBER}\"\n",
        "\n",
        "# for Agentspace\n",
        "export DISPLAY_NAME=\"a simple Google search agent\"\n",
        "export DESCRIPTION=\"This agent is using the google_search tool to help the user\"\n",
        "\n",
        "# where you register your Agent\n",
        "export API_ENDPOINT=\"https://discoveryengine.googleapis.com/v1alpha/projects/${GOOGLE_CLOUD_PROJECT}/locations/global/collections/default_collection/engines/${AS_APP}/assistants/default_assistant/agents\"\n",
        "\n",
        "# --- Register Agent 1: Meeting Assistant Agent ---\n",
        "echo \"Registering Agent: ${DISPLAY_NAME}...\"\n",
        "curl -s -X POST \\\n",
        "-H \"Authorization: Bearer $(gcloud auth print-access-token)\" \\\n",
        "-H \"Content-Type: application/json\" \\\n",
        "-H \"X-Goog-User-Project: ${GOOGLE_CLOUD_PROJECT}\" \\\n",
        "\"${API_ENDPOINT}\" \\\n",
        "-d @-<<EOF\n",
        "{\n",
        "  \"displayName\": \"${DISPLAY_NAME}\",\n",
        "  \"description\": \"${DESCRIPTION}\",\n",
        "  \"adk_agent_definition\": {\n",
        "    \"tool_settings\": {\n",
        "      \"tool_description\": \"Use gogle_search\",\n",
        "    },\n",
        "    \"provisioned_reasoning_engine\": {\n",
        "      \"reasoning_engine\": \"${AGENT_ENGINE}\"\n",
        "    }\n",
        "  }\n",
        "}\n",
        "EOF\n",
        "echo -e \"\\nAgent  registration attempt finished.\\n\""
      ],
      "metadata": {
        "id": "byIfTryWHTR3"
      },
      "execution_count": null,
      "outputs": [],
      "id": "byIfTryWHTR3"
    }
  ],
  "metadata": {
    "kernelspec": {
      "display_name": "Python 3",
      "name": "python3"
    },
    "language_info": {
      "codemirror_mode": {
        "name": "ipython",
        "version": 3
      },
      "file_extension": ".py",
      "mimetype": "text/x-python",
      "name": "python",
      "nbconvert_exporter": "python",
      "pygments_lexer": "ipython3",
      "version": "3.10.10"
    },
    "colab": {
      "provenance": [],
      "name": "create agent in collab",
      "collapsed_sections": [
        "0Ziy3fIUmD-z",
        "bEl-6_A-G7OD",
        "Nugjl0M6FcAH",
        "GrSlCN02Oc6h"
      ],
      "toc_visible": true
    }
  },
  "nbformat": 4,
  "nbformat_minor": 5
}
