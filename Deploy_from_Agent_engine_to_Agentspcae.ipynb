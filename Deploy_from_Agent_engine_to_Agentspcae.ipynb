{
  "cells": [
    {
      "cell_type": "markdown",
      "source": [
        "# Managing agents in Agentspace (using the API)  \n"
      ],
      "metadata": {
        "id": "0ENxLwaQYyR7"
      },
      "id": "0ENxLwaQYyR7"
    },
    {
      "cell_type": "code",
      "source": [
        "import os"
      ],
      "metadata": {
        "id": "9MkeKreYGptp"
      },
      "id": "9MkeKreYGptp",
      "execution_count": null,
      "outputs": []
    },
    {
      "cell_type": "markdown",
      "source": [
        "### Authentication\n",
        "Mostly for Google Colab.  \n",
        "You will be authenticated with your user in Colab Enterprise (Vertex AI)"
      ],
      "metadata": {
        "id": "0Ziy3fIUmD-z"
      },
      "id": "0Ziy3fIUmD-z"
    },
    {
      "cell_type": "code",
      "id": "HOkANNRBs7EbQre1vWDgt337",
      "metadata": {
        "tags": [],
        "id": "HOkANNRBs7EbQre1vWDgt337",
        "collapsed": true
      },
      "source": [
        "import sys\n",
        "\n",
        "if \"google.colab\" in sys.modules:\n",
        "    print(\"Running in Google Colab environment\")\n",
        "    from google.colab import auth\n",
        "    auth.authenticate_user()"
      ],
      "execution_count": null,
      "outputs": []
    },
    {
      "cell_type": "markdown",
      "source": [
        "This notebook is a running version of the following API https://cloud.google.com/agentspace/agentspace-enterprise/docs/reference/rest/v1alpha/projects.locations.collections.engines.agents   \n",
        "\n",
        "You can also use the client library, for example in Python: https://cloud.google.com/python/docs/reference/discoveryengine/latest\n",
        "\n",
        "## Pre-requisites:    \n",
        "### Agentspace\n",
        "- Have a project with Agentspace available\n",
        "- Have an existing Agentspace application - you will need the application ID  \n",
        "- You can create and manage Agentspace apps in the ***AI Application > Apps*** in the Cloud Console.  \n",
        "  \n",
        "### Agent & Agent Engine\n",
        "- Have an agent deployed to Agent engine  *in the same project* than Agentspace    \n",
        "- You can create and manage Agent Engine agents in the ***Vertex AI > Agent Engine*** in the Cloud Console.   \n",
        "- To find information like the name for an agent, click on the agent in the list and choose for example \"Deployment Details\" on the top of the screen\n",
        "\n",
        "**Note**: The REST resource for a running agent in agent engine is using the now deprecated *reasonning engine*  name  \n"
      ],
      "metadata": {
        "id": "IS5gk8xaD3HX"
      },
      "id": "IS5gk8xaD3HX"
    },
    {
      "cell_type": "markdown",
      "source": [
        "## Agent in Agentspace\n",
        "\n",
        "Publish (and activated agents) in agentspace appears under the Agents menu in Agentspace.  \n",
        "There are 3 ways to deploy agents. Generally speaking, you must manage the agents in agentspace through the channel you used to publish them.\n",
        "\n",
        "1. **No code agents created in the agent space web app**\n",
        "  1. Theses can be administrated directly in the agent space webapp via the 3 dots menu\n",
        "  1. They will be listed as \"PRIVATE\"\n",
        "\n",
        "1. **Agents registred in the Cloud Console UI**\n",
        "Per August there is a private preview \"agents\" entry in the left menu - this is where you will manage your agents in the future.\n",
        "\n",
        "In additon, there is an existing UI to publish Dialog Flow agents. Even though it works for agentEngine agents per medio Aug 2025, it might break or have unexpected side effects - expect changes in the futur\n",
        "  1. Choose you Agentspace app under the AI Application > app  \n",
        "  1. Choose configurations, you are now at: *Apps > my-app > Configurations*\n",
        "  1. Select now the \"Assistant\" tab.\n",
        "  1. The agents published through the cloud console are listed under the Agents section \"From your org\"\n",
        "  1. You can edit or delete deployed agents in the console. This include changing the \"backing\" agent engine agent\n",
        "  \n",
        "1. **Publish and manage agents with the API**\n",
        "  1. this is detailed below\n",
        "  1. They will also come under the \"From your organization\" section\n",
        "\n",
        "\n",
        "\n",
        "\n"
      ],
      "metadata": {
        "id": "zFnzXXYheDth"
      },
      "id": "zFnzXXYheDth"
    },
    {
      "cell_type": "markdown",
      "source": [
        "# Using the Agentspace service API\n",
        "\n"
      ],
      "metadata": {
        "id": "7vVk6nn3mZIn"
      },
      "id": "7vVk6nn3mZIn"
    },
    {
      "cell_type": "markdown",
      "source": [
        "\n",
        "### Core elements\n",
        "* Google Project settings like project id, location and the name of the agentspace app\n",
        "The project id to use for the agents. Note that a lot of resources used earlier project number but support now project ID (which is nicer to work with for humans)  \n",
        "The location is a Google Cloud Region\n",
        "* AI setting like which model to use\n",
        "* The \"agent\" is a central element when using the discoveryengine.googleapis.com API  \n",
        "You can set up values for the Agent element in the form below - these values will be used in the whole notebook so come here and update as needed.  \n",
        "\n",
        "*Agent fields*  \n",
        "Note that fields at the top level are Agentspace fields.  \n",
        "The actual agent fields are defined in the Definition field.\n",
        "\n",
        "The agent resource documentation at https://cloud.google.com/agentspace/agentspace-enterprise/docs/reference/rest/v1alpha/projects.locations.collections.engines.agents#Agent  \n",
        "\n",
        "- `name`: the fully qualified name of the agent in AgentSpace   \n",
        "ex: projects/{project}/locations/{location}/collections/{collection}/engines/{engine}/assistants/{assistant}/agents/{agent}\n",
        "\n",
        "* `DisplayName`: The user friendly name is\n",
        "* `Definition`: One of  AdkAgentDefinition, ManagedAgentDefinition and A2AAgentDefinition. We use ADK agents in this notebook. --> This is where you find the URI of the agent in AgentEngine\n"
      ],
      "metadata": {
        "id": "o70qZvQIEisG"
      },
      "id": "o70qZvQIEisG"
    },
    {
      "cell_type": "code",
      "source": [
        "#@title An agent definition for Agentspace\n",
        "#@markdown _How your agent will be called in Agentspace_\n",
        "DISPLAY_NAME = \"the Tuesday agent\"  #@param {type:\"string\"}\n",
        "#@markdown _The description for your agent in Agentspace_\n",
        "DESCRIPTION = \"This agent is created with the API\"  #@param {type:\"string\"}\n",
        "\n",
        "os.environ[\"DISPLAY_NAME\"] = DISPLAY_NAME\n",
        "os.environ[\"DESCRIPTION\"] = DESCRIPTION\n"
      ],
      "metadata": {
        "id": "ZMLPEhH9HMGR"
      },
      "execution_count": null,
      "outputs": [],
      "id": "ZMLPEhH9HMGR"
    },
    {
      "cell_type": "markdown",
      "source": [
        "### Google Cloud Settings  \n",
        "These are the Google Cloud settings like project, agentspace app, etc"
      ],
      "metadata": {
        "id": "ilKQrscBhZhs"
      },
      "id": "ilKQrscBhZhs"
    },
    {
      "cell_type": "code",
      "source": [
        "# @title Settings\n",
        "#@markdown ---\n",
        "#@markdown ### Configure your settings below:\n",
        "\n",
        "#@markdown _What is the ID of your Google Cloud project._\n",
        "\n",
        "PROJECT_ID = \"my-project\" #@param {type:\"string\"}\n",
        "#@markdown _The Google Cloud region you are using_\n",
        "LOCATION = \"us-central1\"  #@param {type:\"string\"}\n",
        "#@markdown _The ID of your existing Agentspace application_\n",
        "AS_APP=\"XXX\" #@param {type:\"string\"}\n",
        "#@markdown _The model to use is_\n",
        "MODEL = \"gemini-2.0-flash-001\" #@param [\"gemini-2.0-pro-exp-02-05\",\"gemini-1.5-pro-002\",\"gemini-1.5-flash-001\",\"gemini-2.0-flash-001\"]\n",
        "\n",
        "\n",
        "import os\n",
        "os.environ[\"GOOGLE_GENAI_USE_VERTEXAI\"] = \"1\"\n",
        "os.environ[\"GOOGLE_CLOUD_PROJECT\"] = PROJECT_ID\n",
        "os.environ[\"AS_APP\"] = AS_APP\n",
        "os.environ[\"GOOGLE_CLOUD_LOCATION\"] = LOCATION\n"
      ],
      "metadata": {
        "id": "p7D63MUFaIGt",
        "cellView": "form"
      },
      "id": "p7D63MUFaIGt",
      "execution_count": null,
      "outputs": []
    },
    {
      "cell_type": "markdown",
      "source": [
        "## Create an agent in Agentspace\n",
        "\n",
        "\n",
        "* name is the fully qualified resource name of the agent *in Agentspace* --> This will be outputed after creation.\n",
        "* not to be confused with the actual running agent wich must be defined in an agent definition (here with an ADK agent).  \n",
        "\n",
        "\n",
        "\n"
      ],
      "metadata": {
        "id": "m5aax6PgHMGO"
      },
      "id": "m5aax6PgHMGO"
    },
    {
      "cell_type": "markdown",
      "source": [
        "### API documentation  \n",
        "You Create a resource by sending a `POST` request to the agent resource.  \n",
        "Doc: https://cloud.google.com/agentspace/agentspace-enterprise/docs/reference/rest/v1alpha/projects.locations.collections.engines.agents/create  "
      ],
      "metadata": {
        "id": "kdA8H7vYHMGS"
      },
      "id": "kdA8H7vYHMGS"
    },
    {
      "cell_type": "code",
      "source": [
        "#@markdown The URI of your agent in Agent engine aka reasonning engine\n",
        "\n",
        "#@markdown Must be in same project than agentspace\n",
        "\n",
        "#@markdown In the form: projects/{project}/locations/{location}/reasoningEngines/{agent}\n",
        "\n",
        "AGENT_URI = \"projects/*/locations/*/reasoningEngines/*\"  #@param {type:\"string\"}\n",
        "#@markdown _How your agent will be called in Agentspace_\n",
        "DISPLAY_NAME = \"The Yoda search agent (updated from API)\"  #@param {type:\"string\"}\n",
        "#@markdown _The description for your agent in Agentspace_\n",
        "DESCRIPTION = \"This agent is using the google_search tool to help the user\"  #@param {type:\"string\"}\n",
        "\n",
        "os.environ[\"DISPLAY_NAME\"] = DISPLAY_NAME\n",
        "os.environ[\"DESCRIPTION\"] = DESCRIPTION\n",
        "os.environ[\"AGENT_URI\"] = AGENT_URI\n"
      ],
      "metadata": {
        "cellView": "form",
        "id": "FSQwb91V_8xK"
      },
      "id": "FSQwb91V_8xK",
      "execution_count": null,
      "outputs": []
    },
    {
      "cell_type": "code",
      "source": [
        "%%bash\n",
        "\n",
        "# Endpoint for Agentspace app\n",
        "export API_ENDPOINT=\"https://discoveryengine.googleapis.com/v1alpha/projects/${GOOGLE_CLOUD_PROJECT}/locations/global/collections/default_collection/engines/${AS_APP}/assistants/default_assistant/agents\"\n",
        "echo \"API_ENDPOINT: ${API_ENDPOINT}\"\n",
        "\n",
        "# --- Creating Agent  ---\n",
        "curl -s -X POST \\\n",
        "-H \"Authorization: Bearer $(gcloud auth print-access-token)\" \\\n",
        "-H \"Content-Type: application/json\" \\\n",
        "-H \"X-Goog-User-Project: ${GOOGLE_CLOUD_PROJECT}\" \\\n",
        "\"${API_ENDPOINT}\" \\\n",
        "-d @- <<EOF\n",
        "{\n",
        "  \"displayName\": \"${DISPLAY_NAME}\",\n",
        "  \"description\": \"${DESCRIPTION}\",\n",
        "  \"adk_agent_definition\": {\n",
        "    \"tool_settings\": {\n",
        "      \"tool_description\": \"Uses google_search\"\n",
        "    },\n",
        "    \"provisioned_reasoning_engine\": {\n",
        "      \"reasoning_engine\": \"${AGENT_URI}\"\n",
        "    }\n",
        "  }\n",
        "}\n",
        "EOF\n",
        "echo -e \"\\nAgent creation attempt finished.\\n\""
      ],
      "metadata": {
        "id": "bUuEhmHnHMGS"
      },
      "execution_count": null,
      "outputs": [],
      "id": "bUuEhmHnHMGS"
    },
    {
      "cell_type": "markdown",
      "source": [
        "## Remove an agent from Agentspace"
      ],
      "metadata": {
        "id": "69uGv6ynHOUU"
      },
      "id": "69uGv6ynHOUU"
    },
    {
      "cell_type": "code",
      "source": [
        "#@title Setting to remove an agent\n",
        "#@markdown The name of your agent in Agent space\n",
        "#@markdown in the form: projects/{project}/locations/{location}/collections/{collection}/engines/{engine}/assistants/{assistant}/agents/{agent}\n",
        "AGENT_NAME_del = \"projects/*/locations/*/collections/*/engines/*/assistants/*/agents/*\"  #@param {type:\"string\"}\n",
        "os.environ[\"AGENT_NAME_del\"] = AGENT_NAME_del"
      ],
      "metadata": {
        "id": "kwyl6blPrmND",
        "cellView": "form"
      },
      "id": "kwyl6blPrmND",
      "execution_count": null,
      "outputs": []
    },
    {
      "cell_type": "markdown",
      "source": [
        "### API documentation  \n",
        "You delete a resource by sending a `DELETE` request to the agent resource identified by their name.    \n",
        "Doc: https://cloud.google.com/agentspace/agentspace-enterprise/docs/reference/rest/v1alpha/projects.locations.collections.engines.agents/delete\n"
      ],
      "metadata": {
        "id": "Fs5yfOiTscSB"
      },
      "id": "Fs5yfOiTscSB"
    },
    {
      "cell_type": "code",
      "source": [
        "%%bash\n",
        "\n",
        "# Resource Endpoint in Agentspace app\n",
        "export API_ENDPOINT=\"https://discoveryengine.googleapis.com/v1alpha/${AGENT_NAME_del}\"\n",
        "echo \"API_ENDPOINT: ${API_ENDPOINT}\" # Print the API endpoint for debugging\n",
        "\n",
        "# --- Register Agent  ---\n",
        "echo \"Deleting Agent: ${AGENT_NAME_del}...\"\n",
        "curl -s -X DELETE \\\n",
        "-H \"Authorization: Bearer $(gcloud auth print-access-token)\" \\\n",
        "-H \"Content-Type: application/json\" \\\n",
        "-H \"X-Goog-User-Project: ${GOOGLE_CLOUD_PROJECT}\" \\\n",
        "\"${API_ENDPOINT}\" \\\n",
        "\n",
        "echo -e \"\\nAgent deletion attempt finished.\\n\""
      ],
      "metadata": {
        "id": "Fw1850hisEXB"
      },
      "execution_count": null,
      "outputs": [],
      "id": "Fw1850hisEXB"
    },
    {
      "cell_type": "markdown",
      "source": [
        "## Deploy an agentspace agent - not working...\n",
        "Not really clear what this does beyond the possibility to redeploy an existing agent.   \n",
        "\n",
        "Use the name of the agent in agent space in the form projects/{project}/locations/{location}/collections/{collection}/engines/{engine}/assistants/{assistant}/agents/{agent}\n",
        "\n"
      ],
      "metadata": {
        "id": "E9-kyG4-ZhnF"
      },
      "id": "E9-kyG4-ZhnF"
    },
    {
      "cell_type": "code",
      "source": [
        "#@markdown The name of your agent in Agentspace\n",
        "#@markdown in the form: projects/{project}/locations/{location}/collections/{collection}/engines/{engine}/assistants/{assistant}/agents/{agent}\n",
        "\n",
        "AGENT_NAME_POST = \"projects/*/locations/*/collections/*/engines/*/assistants/*/agents/*\"  #@param {type:\"string\"}\n",
        "os.environ[\"AGENT_NAME_POST\"] = AGENT_NAME_POST"
      ],
      "metadata": {
        "id": "yCyq9NfBYlf6"
      },
      "id": "yCyq9NfBYlf6",
      "execution_count": null,
      "outputs": []
    },
    {
      "cell_type": "code",
      "source": [
        "%%bash\n",
        "\n",
        "# Endpoint for Agentspace app\n",
        "export API_ENDPOINT=\"https://discoveryengine.googleapis.com/v1alpha/${AGENT_NAME_POST}:deploy\"\n",
        "echo \"API_ENDPOINT: ${API_ENDPOINT}\" # Print the API endpoint for debugging\n",
        "\n",
        "# --- Deploy Agent  ---\n",
        "echo \"Deploy Agent: ${AGENT_NAME_POST} ...\"\n",
        "curl -s -X POST \\\n",
        "-H \"Authorization: Bearer $(gcloud auth print-access-token)\" \\\n",
        "-H \"Content-Type: application/json\" \\\n",
        "-H \"X-Goog-User-Project: ${GOOGLE_CLOUD_PROJECT}\" \\\n",
        "\"${API_ENDPOINT}\" \\\n",
        "\n",
        "echo -e \"\\nAgent deployment attempt finished.\\n\""
      ],
      "metadata": {
        "id": "byIfTryWHTR3"
      },
      "execution_count": null,
      "outputs": [],
      "id": "byIfTryWHTR3"
    },
    {
      "cell_type": "markdown",
      "source": [
        "## Get details about a published agent"
      ],
      "metadata": {
        "id": "XMYAK8Rj4iso"
      },
      "id": "XMYAK8Rj4iso"
    },
    {
      "cell_type": "markdown",
      "source": [
        "### API documentation  \n",
        "You get a resource details by sending a `GET` request to the agent resource identified by name.  \n",
        "Doc: https://cloud.google.com/agentspace/agentspace-enterprise/docs/reference/rest/v1alpha/projects.locations.collections.engines.agents/get"
      ],
      "metadata": {
        "id": "1D4Kz7dc432D"
      },
      "id": "1D4Kz7dc432D"
    },
    {
      "cell_type": "code",
      "source": [
        "#@markdown _The id of your agent in Agent Engine (number back */reasoningengines/?)_\n",
        "AGENT_ID_GET = \"012345678912345678\"  #@param {type:\"string\"}\n",
        "os.environ[\"AGENT_ID_GET\"] = AGENT_ID_GET"
      ],
      "metadata": {
        "id": "_iVKWSYv4r64"
      },
      "id": "_iVKWSYv4r64",
      "execution_count": null,
      "outputs": []
    },
    {
      "cell_type": "code",
      "source": [
        "%%bash\n",
        "\n",
        "# Endpoint for Agentspace app\n",
        "export API_ENDPOINT=\"https://discoveryengine.googleapis.com/v1alpha/projects/${GOOGLE_CLOUD_PROJECT}/locations/global/collections/default_collection/engines/${AS_APP}/assistants/default_assistant/agents/${AGENT_ID_GET}\"\n",
        "\n",
        "echo \"API_ENDPOINT: ${API_ENDPOINT}\" # Print the API endpoint for debugging\n",
        "\n",
        "# --- list Agents  ---\n",
        "echo \"Info about agent : ${AGENT_ID_GET}...\"\n",
        "\n",
        "curl -s -X GET \\\n",
        "-H \"Authorization: Bearer $(gcloud auth print-access-token)\" \\\n",
        "-H \"Content-Type: application/json\" \\\n",
        "-H \"X-Goog-User-Project: ${GOOGLE_CLOUD_PROJECT}\" \\\n",
        "\"${API_ENDPOINT}\" \\\n",
        "\n",
        "echo -e \"\\nend details.\\n\""
      ],
      "metadata": {
        "id": "0Q19bqQ8AwcF"
      },
      "id": "0Q19bqQ8AwcF",
      "execution_count": null,
      "outputs": []
    },
    {
      "cell_type": "markdown",
      "source": [
        "Get more (?) details with AgentView  \n",
        "But I can't really see the difference between the two"
      ],
      "metadata": {
        "id": "sroCvZR99rR4"
      },
      "id": "sroCvZR99rR4"
    },
    {
      "cell_type": "code",
      "source": [
        "%%bash\n",
        "\n",
        "# Endpoint for Agentspace app\n",
        "export API_ENDPOINT=\"https://discoveryengine.googleapis.com/v1alpha/projects/${GOOGLE_CLOUD_PROJECT}/locations/global/collections/default_collection/engines/${AS_APP}/assistants/default_assistant/agents/${AGENT_ID_GET}\"\n",
        "\n",
        "echo \"API_ENDPOINT: ${API_ENDPOINT}:getAgentView\" # Print the API endpoint for debugging\n",
        "\n",
        "# --- list Agents  ---\n",
        "echo \"Info about agent : ${AGENT_ID_GET}...\"\n",
        "\n",
        "curl -s -X GET \\\n",
        "-H \"Authorization: Bearer $(gcloud auth print-access-token)\" \\\n",
        "-H \"Content-Type: application/json\" \\\n",
        "-H \"X-Goog-User-Project: ${GOOGLE_CLOUD_PROJECT}\" \\\n",
        "\"${API_ENDPOINT}\" \\\n",
        "\n",
        "echo -e \"\\nend details.\\n\""
      ],
      "metadata": {
        "id": "QhX3USji9qkZ"
      },
      "id": "QhX3USji9qkZ",
      "execution_count": null,
      "outputs": []
    },
    {
      "cell_type": "markdown",
      "source": [
        "## List published agents"
      ],
      "metadata": {
        "id": "VPII9TSwXy0S"
      },
      "id": "VPII9TSwXy0S"
    },
    {
      "cell_type": "code",
      "source": [
        "%%bash\n",
        "\n",
        "# Endpoint for Agentspace app\n",
        "export API_ENDPOINT=\"https://discoveryengine.googleapis.com/v1alpha/projects/${GOOGLE_CLOUD_PROJECT}/locations/global/collections/default_collection/engines/${AS_APP}/assistants/default_assistant/agents\"\n",
        "echo \"API_ENDPOINT: ${API_ENDPOINT}\" # Print the API endpoint for debugging\n",
        "\n",
        "# --- list Agents  ---\n",
        "echo \"Listing Agents from: ${AS_APP}...\"\n",
        "\n",
        "curl -s -X GET \\\n",
        "-H \"Authorization: Bearer $(gcloud auth print-access-token)\" \\\n",
        "-H \"Content-Type: application/json\" \\\n",
        "-H \"X-Goog-User-Project: ${GOOGLE_CLOUD_PROJECT}\" \\\n",
        "\"${API_ENDPOINT}\" \\\n",
        "\n",
        "echo -e \"\\nend of list.\\n\""
      ],
      "metadata": {
        "id": "w7OV-eChphQy"
      },
      "id": "w7OV-eChphQy",
      "execution_count": null,
      "outputs": []
    },
    {
      "cell_type": "markdown",
      "source": [
        "## Update an agent in Agentspace  \n",
        "Note that you send data in the body with an \"agent\" incl. all required fields but you can use a mask in parameter to only update the fields you want to update.  \n",
        "Example demo using an agent element and without mask"
      ],
      "metadata": {
        "id": "_tByvvL31jZr"
      },
      "id": "_tByvvL31jZr"
    },
    {
      "cell_type": "code",
      "source": [
        "#@title Setting to update an agent\n",
        "\n",
        "#@markdown The URI of your agent in Agent engine aka reasonning engine\n",
        "\n",
        "#@markdown Must be in same project than agentspace\n",
        "\n",
        "#@markdown In the form: projects/{project}/locations/{location}/reasoningEngines/{agent}\n",
        "\n",
        "AGENT_URI_PATCH = \"projects/*/locations/*/reasoningEngines/*\"  #@param {type:\"string\"}\n",
        "os.environ[\"AGENT_URI_PATCH\"] = AGENT_URI_PATCH\n",
        "\n",
        "#@markdown _The name of your agent in Agent Engine (number back */reasoningengines/?)_\n",
        "AGENT_NAME_PATCH = \"0123456789012345678\"  #@param {type:\"string\"}\n",
        "#@markdown _How your agent will be called in Agentspace_\n",
        "DISPLAY_NAME_patch = \"The Yoda search agent (updated from API)\"  #@param {type:\"string\"}\n",
        "#@markdown _The description for your agent in Agentspace_\n",
        "DESCRIPTION_patch = \"This agent is using the google_search tool to help the user\"  #@param {type:\"string\"}\n",
        "\n",
        "os.environ[\"DISPLAY_NAME_patch\"] = DISPLAY_NAME_patch\n",
        "os.environ[\"DESCRIPTION_patch\"] = DESCRIPTION_patch\n",
        "os.environ[\"AGENT_NAME_PATCH\"] = AGENT_NAME_PATCH"
      ],
      "metadata": {
        "id": "LKnVyCZr1jZt",
        "cellView": "form"
      },
      "execution_count": null,
      "outputs": [],
      "id": "LKnVyCZr1jZt"
    },
    {
      "cell_type": "markdown",
      "source": [
        "### API documentation  \n",
        "You update a resource by sending a `PATCH` request to the agent resource in Agentspace .  \n",
        "Doc: https://cloud.google.com/agentspace/agentspace-enterprise/docs/reference/rest/v1alpha/projects.locations.collections.engines.agents/patch  "
      ],
      "metadata": {
        "id": "Rs1krFPp1jZu"
      },
      "id": "Rs1krFPp1jZu"
    },
    {
      "cell_type": "code",
      "source": [
        "%%bash\n",
        "# Endpoint for the agent in the Agentspace app\n",
        "export API_ENDPOINT=\"https://discoveryengine.googleapis.com/v1alpha/projects/${GOOGLE_CLOUD_PROJECT}/locations/global/collections/default_collection/engines/${AS_APP}/assistants/default_assistant/agents/${AGENT_NAME_PATCH}\"\n",
        "echo \"API_ENDPOINT: ${API_ENDPOINT}\" # Print the API endpoint for debugging\n",
        "\n",
        "# --- Register Agent  ---\n",
        "echo \"Updating Agent: ${AGENT_NAME_PATCH}...\"\n",
        "curl -s -X PATCH \\\n",
        "-H \"Authorization: Bearer $(gcloud auth print-access-token)\" \\\n",
        "-H \"Content-Type: application/json\" \\\n",
        "-H \"X-Goog-User-Project: ${GOOGLE_CLOUD_PROJECT}\" \\\n",
        "\"${API_ENDPOINT}\" \\\n",
        "-d @-<<EOF\n",
        "{\n",
        "  \"displayName\": \"${DISPLAY_NAME_patch}\",\n",
        "  \"description\": \"${DESCRIPTION_patch}\",\n",
        "\n",
        "  \"adkAgentDefinition\":\n",
        "  {\n",
        "      \"toolSettings\": {\n",
        "        \"toolDescription\": \"Uses google_search\"\n",
        "      },\n",
        "      \"provisionedReasoningEngine\": {\n",
        "        \"reasoningEngine\": \"${AGENT_URI_PATCH}\"\n",
        "      }\n",
        "  }\n",
        "}\n",
        "EOF\n",
        "echo -e \"\\nAgent Update attempt finished.\\n\""
      ],
      "metadata": {
        "id": "GnNa-Dwn1jZu"
      },
      "execution_count": null,
      "outputs": [],
      "id": "GnNa-Dwn1jZu"
    }
  ],
  "metadata": {
    "kernelspec": {
      "display_name": "Python 3",
      "name": "python3"
    },
    "language_info": {
      "codemirror_mode": {
        "name": "ipython",
        "version": 3
      },
      "file_extension": ".py",
      "mimetype": "text/x-python",
      "name": "python",
      "nbconvert_exporter": "python",
      "pygments_lexer": "ipython3",
      "version": "3.10.10"
    },
    "colab": {
      "provenance": [],
      "name": "Deploy from Agent engine to Agentspcae",
      "collapsed_sections": [
        "0ENxLwaQYyR7",
        "o70qZvQIEisG",
        "ilKQrscBhZhs",
        "m5aax6PgHMGO",
        "Fs5yfOiTscSB",
        "E9-kyG4-ZhnF",
        "1D4Kz7dc432D",
        "VPII9TSwXy0S"
      ],
      "toc_visible": true
    }
  },
  "nbformat": 4,
  "nbformat_minor": 5
}